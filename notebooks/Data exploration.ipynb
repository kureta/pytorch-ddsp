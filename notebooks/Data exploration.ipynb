{
 "cells": [
  {
   "cell_type": "code",
   "execution_count": null,
   "id": "e756dd3a",
   "metadata": {},
   "outputs": [],
   "source": [
    "%matplotlib inline\n",
    "import matplotlib.pyplot as plt\n",
    "from IPython.display import Audio\n",
    "import numpy as np\n",
    "from scipy.stats import norm\n",
    "\n",
    "import torch\n",
    "import torch.nn as nn\n",
    "import torchaudio.functional as AF\n",
    "\n",
    "from einops import rearrange"
   ]
  },
  {
   "cell_type": "code",
   "execution_count": null,
   "id": "be81771b",
   "metadata": {},
   "outputs": [],
   "source": [
    "from src.datamodules.components.ddsp_dataset import DDSPDataset\n",
    "from src.utils.crepe_loss import CrepeLoss"
   ]
  },
  {
   "cell_type": "code",
   "execution_count": null,
   "id": "331573e7",
   "metadata": {},
   "outputs": [],
   "source": [
    "dataset = DDSPDataset('../data/cello.pth')"
   ]
  },
  {
   "cell_type": "code",
   "execution_count": null,
   "id": "4e87ba42",
   "metadata": {},
   "outputs": [],
   "source": [
    "loudness = torch.cat([l['loudness'][0] for l in dataset.features]).numpy()"
   ]
  },
  {
   "cell_type": "code",
   "execution_count": null,
   "id": "699f85cc",
   "metadata": {},
   "outputs": [],
   "source": [
    "plt.rcParams['figure.figsize'] = [16, 8]\n",
    "\n",
    "n, bins, patches = plt.hist(loudness, 128)\n",
    "plt.title(\"Loudness Histogram\")\n",
    "plt.xlabel(\"Db\")\n",
    "plt.ylabel(\"Frequency\")\n",
    "\n",
    "l_min = loudness.min()\n",
    "l_max = loudness.max()\n",
    "mean = loudness.mean()\n",
    "std = loudness.std()\n",
    "start = mean - std\n",
    "end = mean + std\n",
    "\n",
    "plt.xticks([-70.0, -65.0, -60.0, -30.0, mean, l_min, l_max, start, end, start-std, end+std])\n",
    "plt.grid(axis='x')\n",
    "\n",
    "plt.axvline(x=l_min, linewidth=2, label=f'min={l_min:.2f}', color='k')\n",
    "plt.axvline(x=l_max, linewidth=2, label=f'max={l_max:.2f}', color='k')\n",
    "plt.axvline(x=mean, linewidth=2, label=f'mean={mean:.2f}', color='k', linestyle='dashed')\n",
    "plt.axvline(x=start, linewidth=2, label=f'-sigma={start:.2f}', color='g', linestyle='dashed')\n",
    "plt.axvline(x=end, linewidth=2, label=f'+sigma={end:.2f}', color='g', linestyle='dashed')\n",
    "plt.axvline(x=start-std, linewidth=2, label=f'-2sigma={start-std:.2f}', color='y', linestyle='dashed')\n",
    "plt.axvline(x=end+std, linewidth=2, label=f'+2sigma={end+std:.2f}', color='y', linestyle='dashed')\n",
    "\n",
    "plt.legend(loc='upper left')\n",
    "plt.show()"
   ]
  },
  {
   "cell_type": "code",
   "execution_count": null,
   "id": "23bcb7d4",
   "metadata": {},
   "outputs": [],
   "source": [
    "n, bins, patches = plt.hist(norm.cdf((loudness - mean) / std), 128)\n",
    "plt.title(\"Loudness Histogram\")\n",
    "plt.xlabel(\"Normalized Db\")\n",
    "plt.ylabel(\"Frequency\")"
   ]
  },
  {
   "cell_type": "code",
   "execution_count": null,
   "id": "89d93134",
   "metadata": {},
   "outputs": [],
   "source": [
    "f0 = torch.cat([l['f0'][0] for l in dataset.features])"
   ]
  },
  {
   "cell_type": "code",
   "execution_count": null,
   "id": "b5dba620",
   "metadata": {},
   "outputs": [],
   "source": [
    "def bins_to_cents(bins):\n",
    "    \"\"\"Converts pitch bins to cents\"\"\"\n",
    "    cents = 20 * bins + 1997.3794084376191\n",
    "\n",
    "    # Trade quantization error for noise\n",
    "    return cents\n",
    "\n",
    "def cents_to_frequency(cents):\n",
    "    \"\"\"Converts cents to frequency in Hz\"\"\"\n",
    "    return 10 * 2 ** (cents / 1200)\n",
    "\n",
    "def freqs_to_cents(freq):\n",
    "    return 1200 * torch.log2(freq / 10.)\n",
    "\n",
    "def cents_to_bins(cents):\n",
    "    return (cents - 1997.3794084376191) / 20"
   ]
  },
  {
   "cell_type": "code",
   "execution_count": null,
   "id": "833d1d94",
   "metadata": {},
   "outputs": [],
   "source": [
    "f0 = cents_to_bins(freqs_to_cents(f0)) / 359"
   ]
  },
  {
   "cell_type": "code",
   "execution_count": null,
   "id": "8fe4a61b",
   "metadata": {},
   "outputs": [],
   "source": [
    "f0 = f0.numpy()"
   ]
  },
  {
   "cell_type": "code",
   "execution_count": null,
   "id": "b4392156",
   "metadata": {},
   "outputs": [],
   "source": [
    "plt.rcParams['figure.figsize'] = [16, 8]\n",
    "\n",
    "n, bins, patches = plt.hist(f0, 360)\n",
    "plt.title(\"F0 Histogram\")\n",
    "plt.xlabel(\"Normalized pitch\")\n",
    "plt.ylabel(\"Frequency\")\n",
    "\n",
    "l_min = f0.min()\n",
    "l_max = f0.max()\n",
    "mean = f0.mean()\n",
    "std = f0.std()\n",
    "start = mean - std\n",
    "end = mean + std\n",
    "\n",
    "plt.xticks([mean, l_min, l_max, start, end, start-std, end+std])\n",
    "plt.grid(axis='x')\n",
    "\n",
    "plt.axvline(x=l_min, linewidth=2, label=f'min={l_min:.2f}', color='k')\n",
    "plt.axvline(x=l_max, linewidth=2, label=f'max={l_max:.2f}', color='k')\n",
    "plt.axvline(x=mean, linewidth=2, label=f'mean={mean:.2f}', color='k', linestyle='dashed')\n",
    "plt.axvline(x=start, linewidth=2, label=f'-sigma={start:.2f}', color='g', linestyle='dashed')\n",
    "plt.axvline(x=end, linewidth=2, label=f'+sigma={end:.2f}', color='g', linestyle='dashed')\n",
    "plt.axvline(x=start-std, linewidth=2, label=f'-2sigma={start-std:.2f}', color='y', linestyle='dashed')\n",
    "plt.axvline(x=end+std, linewidth=2, label=f'+2sigma={end+std:.2f}', color='y', linestyle='dashed')\n",
    "\n",
    "plt.legend(loc='upper left')\n",
    "plt.show()"
   ]
  },
  {
   "cell_type": "code",
   "execution_count": null,
   "id": "a1968c62",
   "metadata": {},
   "outputs": [],
   "source": [
    "f, amp, audio = dataset[2]"
   ]
  },
  {
   "cell_type": "code",
   "execution_count": null,
   "id": "45a48175",
   "metadata": {},
   "outputs": [],
   "source": [
    "audio = audio.unsqueeze(0)"
   ]
  },
  {
   "cell_type": "code",
   "execution_count": null,
   "id": "2fc58602",
   "metadata": {},
   "outputs": [],
   "source": [
    "def get_amp(example):\n",
    "    b, c, _ = example.shape\n",
    "    example = rearrange(example, \"b c t -> (b c) t\")\n",
    "    example = torch.nn.functional.pad(example, (19200 // 2, 19200 // 2))\n",
    "    example = example.unfold(1, 19200, 3 * 256)\n",
    "    _, f, _ = example.shape\n",
    "    example = rearrange(example, \"(b c) f t -> (b f) c t\", b=b, c=c, f=f)\n",
    "\n",
    "    amp = AF.loudness(example, 48000)\n",
    "    amp = rearrange(amp, \"(b f) -> b f\", b=b, f=f)\n",
    "\n",
    "    return amp"
   ]
  },
  {
   "cell_type": "code",
   "execution_count": null,
   "id": "b2641fd3",
   "metadata": {},
   "outputs": [],
   "source": [
    "shit = get_amp(audio)"
   ]
  },
  {
   "cell_type": "code",
   "execution_count": null,
   "id": "9e925c3c",
   "metadata": {},
   "outputs": [],
   "source": [
    "audio.shape, shit.shape"
   ]
  },
  {
   "cell_type": "code",
   "execution_count": null,
   "id": "140d2f6f",
   "metadata": {},
   "outputs": [],
   "source": [
    "plt.rcParams['figure.figsize'] = [8, 4]\n",
    "plt.plot(torch.nan_to_num(shit[0], nan=-70))\n",
    "plt.show()\n",
    "plt.plot(f[0])\n",
    "plt.show()\n",
    "Audio(data=audio[0], rate=48000)"
   ]
  },
  {
   "cell_type": "code",
   "execution_count": null,
   "id": "91c8df84",
   "metadata": {},
   "outputs": [],
   "source": [
    "audios = torch.stack([f['audio'] for f in dataset.features])"
   ]
  },
  {
   "cell_type": "code",
   "execution_count": null,
   "id": "40a9ef80",
   "metadata": {},
   "outputs": [],
   "source": [
    "audios.shape"
   ]
  },
  {
   "cell_type": "code",
   "execution_count": null,
   "id": "6b91d3f6",
   "metadata": {},
   "outputs": [],
   "source": [
    "amps = []\n",
    "for i in range(0, 6075, 25):\n",
    "    print(i)\n",
    "    amps.append(get_amp(audios[i:i+25].cuda()))"
   ]
  },
  {
   "cell_type": "code",
   "execution_count": null,
   "id": "747114e2",
   "metadata": {},
   "outputs": [],
   "source": [
    "amps[0].shape"
   ]
  },
  {
   "cell_type": "code",
   "execution_count": null,
   "id": "fabe9fa5",
   "metadata": {},
   "outputs": [],
   "source": [
    "shit = torch.cat([a.cpu() for a in amps], dim=0)"
   ]
  },
  {
   "cell_type": "code",
   "execution_count": null,
   "id": "69bfa939",
   "metadata": {},
   "outputs": [],
   "source": [
    "torch.nan_to_num_(shit, nan=100.)"
   ]
  },
  {
   "cell_type": "code",
   "execution_count": null,
   "id": "33738785",
   "metadata": {},
   "outputs": [],
   "source": [
    "shit[shit==100.] = -70."
   ]
  },
  {
   "cell_type": "code",
   "execution_count": null,
   "id": "322a35d9",
   "metadata": {},
   "outputs": [],
   "source": [
    "shit.min(), shit.max()"
   ]
  },
  {
   "cell_type": "code",
   "execution_count": null,
   "id": "d78bc685",
   "metadata": {},
   "outputs": [],
   "source": [
    "idx = 8\n",
    "plt.rcParams['figure.figsize'] = [8, 4]\n",
    "plt.plot((shit[idx] + 70) / 70)\n",
    "plt.show()\n",
    "plt.plot(dataset.features[idx]['f0'][0])\n",
    "plt.show()\n",
    "Audio(data=audios[idx, 0], rate=48000)"
   ]
  },
  {
   "cell_type": "code",
   "execution_count": null,
   "id": "1697b1e9",
   "metadata": {},
   "outputs": [],
   "source": [
    "dynamic_range = 70  # dB"
   ]
  },
  {
   "cell_type": "code",
   "execution_count": null,
   "id": "7976912d",
   "metadata": {},
   "outputs": [],
   "source": [
    "frame_rate = 250\n",
    "hop_size = 48000 // frame_rate\n",
    "hop_size, 48000 * 5 // hop_size  # 5 seconds in samples"
   ]
  },
  {
   "cell_type": "code",
   "execution_count": null,
   "id": "c2463e40",
   "metadata": {},
   "outputs": [],
   "source": [
    "n_harmonics = 60 * 3\n",
    "n_noise = 65 * 3\n",
    "n_harmonics, n_noise"
   ]
  },
  {
   "cell_type": "markdown",
   "id": "a568c516",
   "metadata": {},
   "source": [
    "- normalize f0:\n",
    "  - `f0 = cents_to_bins(freqs_to_cents(f0)) / 359`\n",
    "- un-normalize f0:\n",
    "  - `f0 = cents_to_freqs(bins_to_cents(f0 * 359))`\n",
    "- normalize dB:\n",
    "  - `db = (db + 70) / 70`"
   ]
  },
  {
   "cell_type": "code",
   "execution_count": null,
   "id": "7bc57d25",
   "metadata": {},
   "outputs": [],
   "source": []
  }
 ],
 "metadata": {
  "kernelspec": {
   "display_name": "Python 3 (ipykernel)",
   "language": "python",
   "name": "python3"
  },
  "language_info": {
   "codemirror_mode": {
    "name": "ipython",
    "version": 3
   },
   "file_extension": ".py",
   "mimetype": "text/x-python",
   "name": "python",
   "nbconvert_exporter": "python",
   "pygments_lexer": "ipython3",
   "version": "3.10.6"
  }
 },
 "nbformat": 4,
 "nbformat_minor": 5
}
